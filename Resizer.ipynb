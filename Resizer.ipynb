{
 "cells": [
  {
   "cell_type": "code",
   "execution_count": 7,
   "metadata": {},
   "outputs": [],
   "source": [
    "# import the necessary packages\n",
    "import Augmentor\n",
    "import os"
   ]
  },
  {
   "cell_type": "markdown",
   "metadata": {},
   "source": [
    "# RESIZING"
   ]
  },
  {
   "cell_type": "code",
   "execution_count": 8,
   "metadata": {},
   "outputs": [
    {
     "name": "stdout",
     "output_type": "stream",
     "text": [
      "Initialised with 1 image(s) found.\n",
      "Output directory set to C:/Users/abhilasha/Desktop/Git/ImageFolder\\output."
     ]
    }
   ],
   "source": [
    "#Enter path to folder that contains the image or images\n",
    "path_to_data =\"C:/Users/abhilasha/Desktop/Git/ImageFolder\"\n",
    "\n",
    "#Create a pipeline\n",
    "p = Augmentor.Pipeline(path_to_data)"
   ]
  },
  {
   "cell_type": "code",
   "execution_count": 4,
   "metadata": {},
   "outputs": [
    {
     "name": "stderr",
     "output_type": "stream",
     "text": [
      "Processing <PIL.Image.Image image mode=P size=210x210 at 0x28AA8C032E8>: 100%|█████| 1/1 [00:00<00:00,  7.87 Samples/s]\n"
     ]
    }
   ],
   "source": [
    "#Run to save the resized image in a new folder called \"output\" in the image folder\n",
    "#Enter desired width and height\n",
    "p.resize(probability=1, width=210, height=210, resample_filter=u'BICUBIC')\n",
    "p.process()"
   ]
  },
  {
   "cell_type": "markdown",
   "metadata": {},
   "source": [
    "# RENAMING"
   ]
  },
  {
   "cell_type": "code",
   "execution_count": 5,
   "metadata": {},
   "outputs": [],
   "source": [
    "os.getcwd()\n",
    "#Enter path to image(s) folder\n",
    "collection = \"C:/Users/abhilasha/Desktop/Git/ImageFolder/output\" \n",
    "path=\"C:/Users/abhilasha/Desktop/Git/ImageFolder/output/\""
   ]
  },
  {
   "cell_type": "code",
   "execution_count": 6,
   "metadata": {},
   "outputs": [],
   "source": [
    "for i, filename in enumerate(os.listdir(collection)):\n",
    "    os.rename(path + filename, path +str(i+1) +\"bee\"+ \".png\") #Renamed my image to 1bee.png"
   ]
  }
 ],
 "metadata": {
  "kernelspec": {
   "display_name": "Python 3",
   "language": "python",
   "name": "python3"
  },
  "language_info": {
   "codemirror_mode": {
    "name": "ipython",
    "version": 3
   },
   "file_extension": ".py",
   "mimetype": "text/x-python",
   "name": "python",
   "nbconvert_exporter": "python",
   "pygments_lexer": "ipython3",
   "version": "3.6.5"
  }
 },
 "nbformat": 4,
 "nbformat_minor": 2
}
